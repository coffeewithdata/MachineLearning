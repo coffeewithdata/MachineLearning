{
 "cells": [
  {
   "cell_type": "markdown",
   "id": "03023654",
   "metadata": {},
   "source": [
    "#  Support Vector Machine (SVM)"
   ]
  },
  {
   "cell_type": "markdown",
   "id": "9a068f20",
   "metadata": {},
   "source": [
    "Support Vector Machines (SVMs) are powerful supervised machine learning models used for classification and regression tasks. They are particularly effective in high-dimensional spaces and when the number of dimensions (features) exceeds the number of samples.\n",
    "\n",
    "Here's an overview of how SVMs work:\n",
    "\n",
    "1. **Intuition:**\n",
    "   At its core, SVMs aim to find the optimal hyperplane that best separates different classes in the feature space. For a binary classification problem, this hyperplane is the one that maximizes the margin, which is the distance between the hyperplane and the nearest data points from each class, known as support vectors.\n",
    "\n",
    "2. **Hyperplane:**\n",
    "   In a two-dimensional space, a hyperplane is simply a line. In higher-dimensional spaces, it becomes a hyperplane. For example, in a 3D space, a hyperplane is a plane, and in a 4D space, it's a three-dimensional object.\n",
    "\n",
    "3. **Margin:**\n",
    "   The margin is the distance between the hyperplane and the nearest data point from each class. SVMs aim to maximize this margin, as it leads to better generalization and robustness of the model.\n",
    "\n",
    "4. **Support Vectors:**\n",
    "   Support vectors are the data points that are closest to the hyperplane and have the most influence on its position. These are the critical elements that define the decision boundary.\n",
    "\n",
    "5. **Kernel Trick:**\n",
    "   SVMs can efficiently handle non-linear decision boundaries by using what's called the \"kernel trick.\" Instead of explicitly mapping the input features into a higher-dimensional space, which could be computationally expensive, SVMs use kernel functions to implicitly compute the dot products in the higher-dimensional space. This allows SVMs to effectively learn non-linear decision boundaries.\n",
    "\n",
    "6. **Regularization Parameter (C):**\n",
    "   SVMs have a regularization parameter, denoted as \\( C \\), which controls the trade-off between maximizing the margin and minimizing the classification error. A smaller value of \\( C \\) leads to a wider margin but may allow for misclassifications, while a larger value of \\( C \\) leads to a narrower margin but may result in fewer misclassifications.\n",
    "\n",
    "7. **Types of SVMs:**\n",
    "   SVMs can be used for both classification and regression tasks:\n",
    "   - **Support Vector Classifier (SVC):** Used for classification tasks.\n",
    "   - **Support Vector Regression (SVR):** Used for regression tasks.\n",
    "\n",
    "In summary, SVMs are versatile machine learning models that excel in both linear and non-linear classification tasks. They find the optimal hyperplane to separate classes by maximizing the margin, with support vectors playing a crucial role in defining the decision boundary. The kernel trick enables SVMs to handle complex decision boundaries efficiently."
   ]
  },
  {
   "cell_type": "code",
   "execution_count": 1,
   "id": "adae966d",
   "metadata": {},
   "outputs": [],
   "source": [
    "#import library\n",
    "import numpy as np\n",
    "import matplotlib.pyplot as plt\n",
    "import pandas as pd"
   ]
  },
  {
   "cell_type": "code",
   "execution_count": 7,
   "id": "129f29d2",
   "metadata": {},
   "outputs": [
    {
     "data": {
      "text/html": [
       "<div>\n",
       "<style scoped>\n",
       "    .dataframe tbody tr th:only-of-type {\n",
       "        vertical-align: middle;\n",
       "    }\n",
       "\n",
       "    .dataframe tbody tr th {\n",
       "        vertical-align: top;\n",
       "    }\n",
       "\n",
       "    .dataframe thead th {\n",
       "        text-align: right;\n",
       "    }\n",
       "</style>\n",
       "<table border=\"1\" class=\"dataframe\">\n",
       "  <thead>\n",
       "    <tr style=\"text-align: right;\">\n",
       "      <th></th>\n",
       "      <th>User ID</th>\n",
       "      <th>Gender</th>\n",
       "      <th>Age</th>\n",
       "      <th>EstimatedSalary</th>\n",
       "      <th>Purchased</th>\n",
       "    </tr>\n",
       "  </thead>\n",
       "  <tbody>\n",
       "    <tr>\n",
       "      <th>0</th>\n",
       "      <td>15624510</td>\n",
       "      <td>Male</td>\n",
       "      <td>19</td>\n",
       "      <td>19000</td>\n",
       "      <td>0</td>\n",
       "    </tr>\n",
       "    <tr>\n",
       "      <th>1</th>\n",
       "      <td>15810944</td>\n",
       "      <td>Male</td>\n",
       "      <td>35</td>\n",
       "      <td>20000</td>\n",
       "      <td>0</td>\n",
       "    </tr>\n",
       "    <tr>\n",
       "      <th>2</th>\n",
       "      <td>15668575</td>\n",
       "      <td>Female</td>\n",
       "      <td>26</td>\n",
       "      <td>43000</td>\n",
       "      <td>0</td>\n",
       "    </tr>\n",
       "    <tr>\n",
       "      <th>3</th>\n",
       "      <td>15603246</td>\n",
       "      <td>Female</td>\n",
       "      <td>27</td>\n",
       "      <td>57000</td>\n",
       "      <td>0</td>\n",
       "    </tr>\n",
       "    <tr>\n",
       "      <th>4</th>\n",
       "      <td>15804002</td>\n",
       "      <td>Male</td>\n",
       "      <td>19</td>\n",
       "      <td>76000</td>\n",
       "      <td>0</td>\n",
       "    </tr>\n",
       "  </tbody>\n",
       "</table>\n",
       "</div>"
      ],
      "text/plain": [
       "    User ID  Gender  Age  EstimatedSalary  Purchased\n",
       "0  15624510    Male   19            19000          0\n",
       "1  15810944    Male   35            20000          0\n",
       "2  15668575  Female   26            43000          0\n",
       "3  15603246  Female   27            57000          0\n",
       "4  15804002    Male   19            76000          0"
      ]
     },
     "execution_count": 7,
     "metadata": {},
     "output_type": "execute_result"
    }
   ],
   "source": [
    "#Importing the dataset\n",
    "url=(r'https://raw.githubusercontent.com/Avik-Jain/100-Days-Of-ML-Code/master/datasets/Social_Network_Ads.csv')\n",
    "dataset = pd.read_csv(url)\n",
    "dataset.head()"
   ]
  },
  {
   "cell_type": "markdown",
   "id": "9bb9d19f",
   "metadata": {},
   "source": [
    "These lines extract the independent variables (features) and the dependent variable (target) from the dataset.\n",
    "\n",
    "   - `X` contains the independent variables, which are selected using `iloc`. It selects all rows (`:`) and the columns at index 2 and 3 (Python uses 0-based indexing, so column 2 refers to the third column and column 3 refers to the fourth column). The `.values` attribute converts the selected data into a NumPy array.\n",
    "   - `y` contains the dependent variable, which is selected using `iloc` to select all rows and the column at index 4 (fifth column). This column typically represents the target variable or the output that the machine learning model will predict.\n",
    "\n",
    "In summary, this code reads a dataset from a CSV file hosted on GitHub, selects specific columns to be used as features (`X`) and the target variable (`y`), and stores them as NumPy arrays for further processing in a machine learning task."
   ]
  },
  {
   "cell_type": "code",
   "execution_count": 9,
   "id": "6cfbe2d8",
   "metadata": {},
   "outputs": [],
   "source": [
    "X = dataset.iloc[:, [2, 3]].values\n",
    "y = dataset.iloc[:, 4].values"
   ]
  },
  {
   "cell_type": "markdown",
   "id": "ce838c53",
   "metadata": {},
   "source": [
    "## Splitting the dataset into the Training set and Test set"
   ]
  },
  {
   "cell_type": "code",
   "execution_count": 11,
   "id": "64e54475",
   "metadata": {},
   "outputs": [],
   "source": [
    "from sklearn.model_selection import train_test_split\n",
    "X_train, X_test, y_train, y_test = train_test_split(X, y, test_size = 0.25, random_state = 0)"
   ]
  },
  {
   "cell_type": "markdown",
   "id": "e97eb88e",
   "metadata": {},
   "source": [
    "## Feature Scaling \n",
    "\n",
    "Feature scaling is a preprocessing technique used in machine learning to standardize or normalize the range of independent features or variables in the data. The goal of feature scaling is to ensure that all features contribute equally to the learning process and prevent certain features from dominating due to their larger scales or ranges."
   ]
  },
  {
   "cell_type": "code",
   "execution_count": 12,
   "id": "9424259b",
   "metadata": {},
   "outputs": [],
   "source": [
    "from sklearn.preprocessing import StandardScaler\n",
    "sc = StandardScaler()\n",
    "X_train = sc.fit_transform(X_train)\n",
    "X_test = sc.fit_transform(X_test)"
   ]
  },
  {
   "cell_type": "markdown",
   "id": "ca98901f",
   "metadata": {},
   "source": [
    "## Fitting SVM to the Training set\n",
    "this code snippet imports the SVM classifier from scikit-learn, initializes it with specified parameters (linear kernel and random state), and then trains the classifier using the training data (X_train and y_train). The trained classifier can then be used to make predictions on new, unseen data.\n",
    "\n",
    "Fit() function trains the SVM classifier using the training data. X_train contains the features of the training dataset, and y_train contains the corresponding labels or target values. The fit method adjusts the parameters of the SVM model to minimize the classification error on the training data.\n",
    "\n",
    "**Linear kernels** are computationally efficient and easy to interpret, making them a popular choice when working with large datasets or when the relationships between features and classes are relatively simple. However, in cases where the classes are not linearly separable, or when a more complex decision boundary is required, other kernel functions like polynomial or radial basis function (RBF) kernels may be more suitable."
   ]
  },
  {
   "cell_type": "code",
   "execution_count": 13,
   "id": "5237bc56",
   "metadata": {},
   "outputs": [
    {
     "data": {
      "text/html": [
       "<style>#sk-container-id-1 {color: black;}#sk-container-id-1 pre{padding: 0;}#sk-container-id-1 div.sk-toggleable {background-color: white;}#sk-container-id-1 label.sk-toggleable__label {cursor: pointer;display: block;width: 100%;margin-bottom: 0;padding: 0.3em;box-sizing: border-box;text-align: center;}#sk-container-id-1 label.sk-toggleable__label-arrow:before {content: \"▸\";float: left;margin-right: 0.25em;color: #696969;}#sk-container-id-1 label.sk-toggleable__label-arrow:hover:before {color: black;}#sk-container-id-1 div.sk-estimator:hover label.sk-toggleable__label-arrow:before {color: black;}#sk-container-id-1 div.sk-toggleable__content {max-height: 0;max-width: 0;overflow: hidden;text-align: left;background-color: #f0f8ff;}#sk-container-id-1 div.sk-toggleable__content pre {margin: 0.2em;color: black;border-radius: 0.25em;background-color: #f0f8ff;}#sk-container-id-1 input.sk-toggleable__control:checked~div.sk-toggleable__content {max-height: 200px;max-width: 100%;overflow: auto;}#sk-container-id-1 input.sk-toggleable__control:checked~label.sk-toggleable__label-arrow:before {content: \"▾\";}#sk-container-id-1 div.sk-estimator input.sk-toggleable__control:checked~label.sk-toggleable__label {background-color: #d4ebff;}#sk-container-id-1 div.sk-label input.sk-toggleable__control:checked~label.sk-toggleable__label {background-color: #d4ebff;}#sk-container-id-1 input.sk-hidden--visually {border: 0;clip: rect(1px 1px 1px 1px);clip: rect(1px, 1px, 1px, 1px);height: 1px;margin: -1px;overflow: hidden;padding: 0;position: absolute;width: 1px;}#sk-container-id-1 div.sk-estimator {font-family: monospace;background-color: #f0f8ff;border: 1px dotted black;border-radius: 0.25em;box-sizing: border-box;margin-bottom: 0.5em;}#sk-container-id-1 div.sk-estimator:hover {background-color: #d4ebff;}#sk-container-id-1 div.sk-parallel-item::after {content: \"\";width: 100%;border-bottom: 1px solid gray;flex-grow: 1;}#sk-container-id-1 div.sk-label:hover label.sk-toggleable__label {background-color: #d4ebff;}#sk-container-id-1 div.sk-serial::before {content: \"\";position: absolute;border-left: 1px solid gray;box-sizing: border-box;top: 0;bottom: 0;left: 50%;z-index: 0;}#sk-container-id-1 div.sk-serial {display: flex;flex-direction: column;align-items: center;background-color: white;padding-right: 0.2em;padding-left: 0.2em;position: relative;}#sk-container-id-1 div.sk-item {position: relative;z-index: 1;}#sk-container-id-1 div.sk-parallel {display: flex;align-items: stretch;justify-content: center;background-color: white;position: relative;}#sk-container-id-1 div.sk-item::before, #sk-container-id-1 div.sk-parallel-item::before {content: \"\";position: absolute;border-left: 1px solid gray;box-sizing: border-box;top: 0;bottom: 0;left: 50%;z-index: -1;}#sk-container-id-1 div.sk-parallel-item {display: flex;flex-direction: column;z-index: 1;position: relative;background-color: white;}#sk-container-id-1 div.sk-parallel-item:first-child::after {align-self: flex-end;width: 50%;}#sk-container-id-1 div.sk-parallel-item:last-child::after {align-self: flex-start;width: 50%;}#sk-container-id-1 div.sk-parallel-item:only-child::after {width: 0;}#sk-container-id-1 div.sk-dashed-wrapped {border: 1px dashed gray;margin: 0 0.4em 0.5em 0.4em;box-sizing: border-box;padding-bottom: 0.4em;background-color: white;}#sk-container-id-1 div.sk-label label {font-family: monospace;font-weight: bold;display: inline-block;line-height: 1.2em;}#sk-container-id-1 div.sk-label-container {text-align: center;}#sk-container-id-1 div.sk-container {/* jupyter's `normalize.less` sets `[hidden] { display: none; }` but bootstrap.min.css set `[hidden] { display: none !important; }` so we also need the `!important` here to be able to override the default hidden behavior on the sphinx rendered scikit-learn.org. See: https://github.com/scikit-learn/scikit-learn/issues/21755 */display: inline-block !important;position: relative;}#sk-container-id-1 div.sk-text-repr-fallback {display: none;}</style><div id=\"sk-container-id-1\" class=\"sk-top-container\"><div class=\"sk-text-repr-fallback\"><pre>SVC(kernel=&#x27;linear&#x27;, random_state=0)</pre><b>In a Jupyter environment, please rerun this cell to show the HTML representation or trust the notebook. <br />On GitHub, the HTML representation is unable to render, please try loading this page with nbviewer.org.</b></div><div class=\"sk-container\" hidden><div class=\"sk-item\"><div class=\"sk-estimator sk-toggleable\"><input class=\"sk-toggleable__control sk-hidden--visually\" id=\"sk-estimator-id-1\" type=\"checkbox\" checked><label for=\"sk-estimator-id-1\" class=\"sk-toggleable__label sk-toggleable__label-arrow\">SVC</label><div class=\"sk-toggleable__content\"><pre>SVC(kernel=&#x27;linear&#x27;, random_state=0)</pre></div></div></div></div></div>"
      ],
      "text/plain": [
       "SVC(kernel='linear', random_state=0)"
      ]
     },
     "execution_count": 13,
     "metadata": {},
     "output_type": "execute_result"
    }
   ],
   "source": [
    "from sklearn.svm import SVC\n",
    "classifier = SVC(kernel = 'linear', random_state = 0)\n",
    "classifier.fit(X_train, y_train)"
   ]
  },
  {
   "cell_type": "markdown",
   "id": "0145cdc1",
   "metadata": {},
   "source": [
    "## Predicting the Test set results \n",
    "`y_pred` will contain the predicted labels or classes for the test data (`X_test`) based on the learned patterns from the training data. These predictions can then be evaluated against the actual labels (`y_test`) to assess the performance of the SVM classifier."
   ]
  },
  {
   "cell_type": "code",
   "execution_count": 15,
   "id": "fd74d38c",
   "metadata": {},
   "outputs": [
    {
     "name": "stdout",
     "output_type": "stream",
     "text": [
      "[0 0 0 0 0 0 0 1 0 0 0 0 0 0 0 1 0 0 1 0 0 1 0 1 0 1 0 0 0 0 0 0 1 0 0 0 0\n",
      " 0 0 1 0 0 0 0 1 0 0 1 0 1 1 0 0 1 1 0 0 0 0 0 0 1 0 1 0 1 0 0 0 1 1 0 0 0\n",
      " 0 0 1 0 1 1 1 1 0 0 1 1 0 1 0 0 0 1 0 0 0 0 0 0 1 1]\n"
     ]
    }
   ],
   "source": [
    "y_pred = classifier.predict(X_test)\n",
    "print(y_pred)\n"
   ]
  },
  {
   "cell_type": "markdown",
   "id": "d6533679",
   "metadata": {},
   "source": [
    "## Making the Confusion Matrix\n",
    "\n",
    "A confusion matrix is a performance measurement tool for machine learning classification algorithms, which is particularly useful for evaluating the performance of a model on a dataset where the true values are known. It provides a summary of the actual and predicted classifications done by a classification model.\n",
    "\n",
    "By analyzing the confusion matrix and associated performance metrics, you can gain insights into the strengths and weaknesses of your classification model and make improvements as needed."
   ]
  },
  {
   "cell_type": "code",
   "execution_count": 16,
   "id": "505dee03",
   "metadata": {},
   "outputs": [],
   "source": [
    "from sklearn.metrics import confusion_matrix\n",
    "cm = confusion_matrix(y_test, y_pred)"
   ]
  },
  {
   "cell_type": "markdown",
   "id": "8782b501",
   "metadata": {},
   "source": [
    "## Visualising the Training set results\n",
    "This code snippet visualizes the decision boundary created by a Support Vector Machine (SVM) classifier on the training dataset. Let's break it down step by step:\n",
    "\n",
    "1. **Importing Libraries:**\n",
    "   ```python\n",
    "   from matplotlib.colors import ListedColormap\n",
    "   ```\n",
    "   This line imports the `ListedColormap` class from the `matplotlib.colors` module. This class is used to create a colormap from a list of colors.\n",
    "\n",
    "2. **Defining Variables:**\n",
    "   ```python\n",
    "   X_set, y_set = X_train, y_train\n",
    "   ```\n",
    "   This line assigns the training features (`X_train`) and labels (`y_train`) to the variables `X_set` and `y_set`, respectively.\n",
    "\n",
    "3. **Creating Mesh Grid:**\n",
    "   ```python\n",
    "   X1, X2 = np.meshgrid(np.arange(start = X_set[:, 0].min() - 1, stop = X_set[:, 0].max() + 1, step = 0.01),\n",
    "                        np.arange(start = X_set[:, 1].min() - 1, stop = X_set[:, 1].max() + 1, step = 0.01))\n",
    "   ```\n",
    "   This code creates a mesh grid of points covering the range of the features. It uses `np.meshgrid()` to generate a grid of points for the two features (`X1` and `X2`). The `arange()` function is used to create arrays of values within the specified range with a step size of 0.01.\n",
    "\n",
    "4. **Making Predictions:**\n",
    "   ```python\n",
    "   plt.contourf(X1, X2, classifier.predict(np.array([X1.ravel(), X2.ravel()]).T).reshape(X1.shape),\n",
    "                alpha = 0.75, cmap = ListedColormap(('red', 'green')))\n",
    "   ```\n",
    "   Here, predictions are made for each point in the mesh grid using the SVM classifier (`classifier`). The `predict()` method is applied to the flattened mesh grid (`X1.ravel()` and `X2.ravel()`) to get the predicted class labels. The result is reshaped to match the shape of the mesh grid. `contourf()` function is then used to create filled contour plots based on the predictions.\n",
    "\n",
    "5. **Plotting Data Points:**\n",
    "   ```python\n",
    "   for i, j in enumerate(np.unique(y_set)):\n",
    "       plt.scatter(X_set[y_set == j, 0], X_set[y_set == j, 1],\n",
    "                   c = ListedColormap(('red', 'green'))(i), label = j)\n",
    "   ```\n",
    "   This loop iterates over unique class labels (`j`) in the training set and plots the data points for each class. It uses different colors (red and green) to distinguish between the classes.\n",
    "\n",
    "6. **Plot Customization:**\n",
    "   ```python\n",
    "   plt.xlim(X1.min(), X1.max())\n",
    "   plt.ylim(X2.min(), X2.max())\n",
    "   plt.title('SVM (Training set)')\n",
    "   plt.xlabel('Age')\n",
    "   plt.ylabel('Estimated Salary')\n",
    "   plt.legend()\n",
    "   plt.show()\n",
    "   ```\n",
    "   These lines set the limits of the plot, add a title, and label the axes. Finally, it displays the plot with `plt.show()`.\n",
    "\n",
    "In summary, this code generates a visualization of the decision boundary created by the SVM classifier on the training dataset, along with the actual data points. It helps to understand how the SVM classifier separates the classes in the feature space.\n"
   ]
  },
  {
   "cell_type": "code",
   "execution_count": 17,
   "id": "911f0be1",
   "metadata": {},
   "outputs": [
    {
     "name": "stderr",
     "output_type": "stream",
     "text": [
      "/var/folders/60/b2krjn1s6jbcv1dd1wbzt2wm0000gp/T/ipykernel_69698/4201665834.py:10: UserWarning: *c* argument looks like a single numeric RGB or RGBA sequence, which should be avoided as value-mapping will have precedence in case its length matches with *x* & *y*.  Please use the *color* keyword-argument or provide a 2D array with a single row if you intend to specify the same RGB or RGBA value for all points.\n",
      "  plt.scatter(X_set[y_set == j, 0], X_set[y_set == j, 1],\n"
     ]
    },
    {
     "data": {
      "image/png": "[encoded data removed]",
      "text/plain": [
       "<Figure size 640x480 with 1 Axes>"
      ]
     },
     "metadata": {},
     "output_type": "display_data"
    }
   ],
   "source": [
    "from matplotlib.colors import ListedColormap\n",
    "X_set, y_set = X_train, y_train\n",
    "X1, X2 = np.meshgrid(np.arange(start = X_set[:, 0].min() - 1, stop = X_set[:, 0].max() + 1, step = 0.01),\n",
    "                     np.arange(start = X_set[:, 1].min() - 1, stop = X_set[:, 1].max() + 1, step = 0.01))\n",
    "plt.contourf(X1, X2, classifier.predict(np.array([X1.ravel(), X2.ravel()]).T).reshape(X1.shape),\n",
    "             alpha = 0.75, cmap = ListedColormap(('red', 'green')))\n",
    "plt.xlim(X1.min(), X1.max())\n",
    "plt.ylim(X2.min(), X2.max())\n",
    "for i, j in enumerate(np.unique(y_set)):\n",
    "    plt.scatter(X_set[y_set == j, 0], X_set[y_set == j, 1],\n",
    "                c = ListedColormap(('red', 'green'))(i), label = j)\n",
    "plt.title('SVM (Training set)')\n",
    "plt.xlabel('Age')\n",
    "plt.ylabel('Estimated Salary')\n",
    "plt.legend()\n",
    "plt.show()"
   ]
  },
  {
   "cell_type": "markdown",
   "id": "7dafee79",
   "metadata": {},
   "source": [
    "## Visualising the Test set results \n",
    "\n",
    "This code snippet visualizes the decision boundary created by a Support Vector Machine (SVM) classifier on the test dataset. Let's break it down step by step:\n",
    "\n",
    "1. **Importing Libraries:**\n",
    "   ```python\n",
    "   from matplotlib.colors import ListedColormap\n",
    "   ```\n",
    "   This line imports the `ListedColormap` class from the `matplotlib.colors` module. This class is used to create a colormap from a list of colors.\n",
    "\n",
    "2. **Defining Variables:**\n",
    "   ```python\n",
    "   X_set, y_set = X_test, y_test\n",
    "   ```\n",
    "   This line assigns the test features (`X_test`) and labels (`y_test`) to the variables `X_set` and `y_set`, respectively.\n",
    "\n",
    "3. **Creating Mesh Grid:**\n",
    "   ```python\n",
    "   X1, X2 = np.meshgrid(np.arange(start = X_set[:, 0].min() - 1, stop = X_set[:, 0].max() + 1, step = 0.01),\n",
    "                        np.arange(start = X_set[:, 1].min() - 1, stop = X_set[:, 1].max() + 1, step = 0.01))\n",
    "   ```\n",
    "   This code creates a mesh grid of points covering the range of the features. It uses `np.meshgrid()` to generate a grid of points for the two features (`X1` and `X2`). The `arange()` function is used to create arrays of values within the specified range with a step size of 0.01.\n",
    "\n",
    "4. **Making Predictions:**\n",
    "   ```python\n",
    "   plt.contourf(X1, X2, classifier.predict(np.array([X1.ravel(), X2.ravel()]).T).reshape(X1.shape),\n",
    "                alpha = 0.75, cmap = ListedColormap(('red', 'green')))\n",
    "   ```\n",
    "   Here, predictions are made for each point in the mesh grid using the SVM classifier (`classifier`). The `predict()` method is applied to the flattened mesh grid (`X1.ravel()` and `X2.ravel()`) to get the predicted class labels. The result is reshaped to match the shape of the mesh grid. `contourf()` function is then used to create filled contour plots based on the predictions.\n",
    "\n",
    "5. **Plotting Data Points:**\n",
    "   ```python\n",
    "   for i, j in enumerate(np.unique(y_set)):\n",
    "       plt.scatter(X_set[y_set == j, 0], X_set[y_set == j, 1],\n",
    "                   c = ListedColormap(('red', 'green'))(i), label = j)\n",
    "   ```\n",
    "   This loop iterates over unique class labels (`j`) in the test set and plots the data points for each class. It uses different colors (red and green) to distinguish between the classes.\n",
    "\n",
    "6. **Plot Customization:**\n",
    "   ```python\n",
    "   plt.xlim(X1.min(), X1.max())\n",
    "   plt.ylim(X2.min(), X2.max())\n",
    "   plt.title('SVM (Test set)')\n",
    "   plt.xlabel('Age')\n",
    "   plt.ylabel('Estimated Salary')\n",
    "   plt.legend()\n",
    "   plt.show()\n",
    "   ```\n",
    "   These lines set the limits of the plot, add a title, and label the axes. Finally, it displays the plot with `plt.show()`.\n",
    "\n",
    "In summary, this code generates a visualization of the decision boundary created by the SVM classifier on the test dataset, along with the actual data points. It helps to understand how well the SVM classifier generalizes to unseen data and separates the classes in the feature space."
   ]
  },
  {
   "cell_type": "code",
   "execution_count": 19,
   "id": "7b71d0d4",
   "metadata": {},
   "outputs": [
    {
     "name": "stderr",
     "output_type": "stream",
     "text": [
      "/var/folders/60/b2krjn1s6jbcv1dd1wbzt2wm0000gp/T/ipykernel_69698/2113774946.py:10: UserWarning: *c* argument looks like a single numeric RGB or RGBA sequence, which should be avoided as value-mapping will have precedence in case its length matches with *x* & *y*.  Please use the *color* keyword-argument or provide a 2D array with a single row if you intend to specify the same RGB or RGBA value for all points.\n",
      "  plt.scatter(X_set[y_set == j, 0], X_set[y_set == j, 1],\n"
     ]
    },
    {
     "data": {
      "image/png": "[encoded data removed]",
      "text/plain": [
       "<Figure size 640x480 with 1 Axes>"
      ]
     },
     "metadata": {},
     "output_type": "display_data"
    }
   ],
   "source": [
    "from matplotlib.colors import ListedColormap\n",
    "X_set, y_set = X_test, y_test\n",
    "X1, X2 = np.meshgrid(np.arange(start = X_set[:, 0].min() - 1, stop = X_set[:, 0].max() + 1, step = 0.01),\n",
    "                     np.arange(start = X_set[:, 1].min() - 1, stop = X_set[:, 1].max() + 1, step = 0.01))\n",
    "plt.contourf(X1, X2, classifier.predict(np.array([X1.ravel(), X2.ravel()]).T).reshape(X1.shape),\n",
    "             alpha = 0.75, cmap = ListedColormap(('red', 'green')))\n",
    "plt.xlim(X1.min(), X1.max())\n",
    "plt.ylim(X2.min(), X2.max())\n",
    "for i, j in enumerate(np.unique(y_set)):\n",
    "    plt.scatter(X_set[y_set == j, 0], X_set[y_set == j, 1],\n",
    "                c = ListedColormap(('red', 'green'))(i), label = j)\n",
    "plt.title('SVM (Test set)')\n",
    "plt.xlabel('Age')\n",
    "plt.ylabel('Estimated Salary')\n",
    "plt.legend()\n",
    "plt.show()"
   ]
  },
  {
   "cell_type": "code",
   "execution_count": null,
   "id": "512e3d79",
   "metadata": {},
   "outputs": [],
   "source": []
  }
 ],
 "metadata": {
  "kernelspec": {
   "display_name": "Python 3 (ipykernel)",
   "language": "python",
   "name": "python3"
  },
  "language_info": {
   "codemirror_mode": {
    "name": "ipython",
    "version": 3
   },
   "file_extension": ".py",
   "mimetype": "text/x-python",
   "name": "python",
   "nbconvert_exporter": "python",
   "pygments_lexer": "ipython3",
   "version": "3.10.9"
  }
 },
 "nbformat": 4,
 "nbformat_minor": 5
}
